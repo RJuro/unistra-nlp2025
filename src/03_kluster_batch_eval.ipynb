{
  "cells": [
    {
      "cell_type": "markdown",
      "metadata": {},
      "source": [
        "## Introduction\n",
        "\n",
        "This notebook demonstrates how to process and evaluate the results from a Kluster batch processing job. The output from Kluster is typically a JSONL file, where each line represents a single API response. We'll parse this JSONL file, handle potential issues like markdown formatting, and convert the results into a pandas DataFrame for easy analysis and export.\n",
        "\n",
        "## Code Implementation\n",
        "\n",
        "First, let's import the necessary libraries. We'll use `json` for handling JSON data, `pandas` for creating DataFrames, `typing` for type hints, and `re` for regular expressions (to handle markdown)."
      ]
    },
    {
      "cell_type": "code",
      "execution_count": null,
      "metadata": {},
      "outputs": [],
      "source": [
        "import json\n",
        "import pandas as pd\n",
        "from typing import List, Dict, Any, Optional\n",
        "import re"
      ]
    },
    {
      "cell_type": "markdown",
      "metadata": {},
      "source": [
        "### Extracting JSON from Markdown\n",
        "\n",
        "Sometimes, the AI response might be wrapped in markdown code blocks (```json ... ```). This function extracts the actual JSON content from such markdown formatting."
      ]
    },
    {
      "cell_type": "code",
      "execution_count": null,
      "metadata": {},
      "outputs": [],
      "source": [
        "def extract_json_from_markdown(content: str) -> str:\n",
        "    \"\"\"Extract JSON content from markdown code blocks\"\"\"\n",
        "    # Look for JSON content between markdown code blocks\n",
        "    json_match = re.search(r'```json\\s*(.*?)\\s*```', content, re.DOTALL)  # Regex to find JSON in markdown\n",
        "    if json_match:\n",
        "        return json_match.group(1)  # Return the extracted JSON\n",
        "    return content  # Return original if no markdown formatting"
      ]
    },
    {
      "cell_type": "markdown",
      "metadata": {},
      "source": [
        "### Parsing JSONL to DataFrame\n",
        "\n",
        "This is the core function. It reads the JSONL file, parses each line (which is a JSON object), extracts the relevant data (including handling markdown), and compiles everything into a pandas DataFrame.  It also handles list columns by converting them to comma-separated strings."
      ]
    },
    {
      "cell_type": "code",
      "execution_count": null,
      "metadata": {},
      "outputs": [],
      "source": [
        "def parse_jsonl_to_dataframe(jsonl_file_path: str) -> pd.DataFrame:\n",
        "    \"\"\"\n",
        "    Parse a JSONL file with Kluster API response format and convert to a pandas DataFrame.\n",
        "\n",
        "    Args:\n",
        "        jsonl_file_path: Path to the JSONL file containing API responses\n",
        "\n",
        "    Returns:\n",
        "        A pandas DataFrame with the extracted data\n",
        "    \"\"\"\n",
        "    # Store all parsed data\n",
        "    extracted_data = []\n",
        "\n",
        "    # Read the JSONL file\n",
        "    with open(jsonl_file_path, 'r', encoding='utf-8') as file:\n",
        "        for line in file:\n",
        "            try:\n",
        "                # Parse the JSON object\n",
        "                response_obj = json.loads(line.strip())\n",
        "\n",
        "                # Extract custom_id for reference\n",
        "                custom_id = response_obj.get('custom_id', '')\n",
        "\n",
        "                # Extract the content from the response\n",
        "                content = response_obj.get('response', {}).get('body', {}).get('choices', [{}])[0].get('message', {}).get('content', '{}')\n",
        "\n",
        "                # Handle markdown-formatted JSON\n",
        "                json_content = extract_json_from_markdown(content)\n",
        "\n",
        "                # Parse the content into a Python dictionary\n",
        "                try:\n",
        "                    parsed_content = json.loads(json_content)\n",
        "\n",
        "                    # Add metadata (custom_id for tracking)\n",
        "                    parsed_content['custom_id'] = custom_id\n",
        "\n",
        "                    # Add to our results list\n",
        "                    extracted_data.append(parsed_content)\n",
        "                except json.JSONDecodeError:\n",
        "                    print(f\"Warning: Could not parse JSON content for {custom_id}\")\n",
        "\n",
        "            except Exception as e:\n",
        "                print(f\"Error processing line: {e}\")\n",
        "\n",
        "    # Convert to DataFrame\n",
        "    df = pd.DataFrame(extracted_data)\n",
        "\n",
        "    # Handle list columns - convert to comma-separated strings\n",
        "    for col in df.columns:\n",
        "        if df[col].apply(lambda x: isinstance(x, list)).any():\n",
        "            df[col] = df[col].apply(lambda x: ', '.join(x) if isinstance(x, list) and x else '')\n",
        "\n",
        "    return df"
      ]
    },
    {
      "cell_type": "markdown",
      "metadata": {},
      "source": [
        "### Usage Example\n",
        "\n",
        "Here's how to use the `parse_jsonl_to_dataframe` function.  Replace `\"results_20250303_200200.jsonl\"` with the actual path to your Kluster output file."
      ]
    },
    {
      "cell_type": "code",
      "execution_count": null,
      "metadata": {},
      "outputs": [],
      "source": [
        "# Usage example\n",
        "if __name__ == \"__main__\":\n",
        "    jsonl_file_path = \"results_20250303_200200.jsonl\"  # Replace with your file path\n",
        "    df = parse_jsonl_to_dataframe(jsonl_file_path)\n",
        "\n",
        "    # Display the first few rows\n",
        "    print(df.head())\n",
        "\n",
        "    # Save to CSV if needed\n",
        "    df.to_csv(\"extracted_articles.csv\", index=False)"
      ]
    },
    {
      "cell_type": "markdown",
      "metadata": {},
      "source": [
        "This script reads the JSONL file, parses each response, handles potential markdown formatting, creates a DataFrame, and optionally saves the result to a CSV file (`extracted_articles.csv`). The `print(df.head())` line displays the first few rows of the DataFrame, allowing you to quickly inspect the extracted data."
      ]
    }
  ],
  "metadata": {
    "kernelspec": {
      "display_name": "Python 3 (ipykernel)",
      "language": "python",
      "name": "python3",
      "path": "/opt/miniconda3/share/jupyter/kernels/python3"
    }
  },
  "nbformat": 4,
  "nbformat_minor": 4
}
